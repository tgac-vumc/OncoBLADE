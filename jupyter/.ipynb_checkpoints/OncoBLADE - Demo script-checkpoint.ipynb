{
 "cells": [
  {
   "cell_type": "markdown",
   "metadata": {},
   "source": [
    "# BLADE DEMO\n",
    "\n",
    "\n",
    "In this notebook, a demo of BLADE along with generation of simulation dataset is provided.\n",
    "\n",
    "In addition to BLADE, the following two baseline methods are implemented:\n",
    "- Non-negative least square (NNLS)\n",
    "- Support Vector Regression (SVR)\n",
    "\n",
    "\n",
    "### Load necessary modules\n"
   ]
  },
  {
   "cell_type": "code",
   "execution_count": 1,
   "metadata": {},
   "outputs": [],
   "source": [
    "import sys, os\n",
    "from Deconvolution.BLADE import Framework\n",
    "import numpy as np\n",
    "from numpy import transpose as t\n",
    "import itertools\n",
    "import pickle\n",
    "from scipy.optimize import nnls\n",
    "from sklearn.svm import SVR\n",
    "from sklearn.svm import NuSVR\n",
    "from sklearn.metrics import mean_squared_error as mse\n",
    "import pandas as pd\n",
    "\n",
    "# modules for visualization\n",
    "import qgrid\n",
    "from matplotlib import pyplot as plt\n",
    "import seaborn as sns"
   ]
  },
  {
   "cell_type": "markdown",
   "metadata": {},
   "source": [
    "## Generation of simulation data \n",
    "\n",
    "A simulation data is generated based on:\n",
    "- number of cell types (`Ncells`)\n",
    "- number of genes (`Ngenes`)\n",
    "- number of samples (`Nsamples`)\n",
    "- level of variability (`Noises`)\n",
    "\n",
    "User can add or remove options by modifying the list variables below:"
   ]
  },
  {
   "cell_type": "code",
   "execution_count": 2,
   "metadata": {},
   "outputs": [],
   "source": [
    "# training data\n",
    "Ncells = [3]\n",
    "Ngenes = [200]\n",
    "Nsamples = [20]\n",
    "Noises = [0.25, 0.5, 0.75, 1, 1.25, 1.5] "
   ]
  },
  {
   "cell_type": "markdown",
   "metadata": {},
   "source": [
    "A simulation dataset will be created for every possible combination of the above parameters.  \n",
    "The script below will create `../simulationdata.pickle` that contains a dictionary object.\n",
    "\n",
    "For each configuration of `Ncell`, `Ngene`, `Nsample` and `Noise`, the following elements are created:\n",
    "- `F`: fraction of cell type (`Ncell` by `Nsample` matrix)\n",
    "- `Mu`: average gene expression profile per cell type (signature in log-scale; `Ngene` by `Ncell` matrix)\n",
    "- `Omega`: gene expression variability per cell type (`Ngene` by `Ncell` matrix)\n",
    "- `X`: gene expression profile per cell type in each sample (`Nsample` by `Ngene` by `Ncell` multidimensional array)\n",
    "- `Y`: bulk gene expression profile (log-scale; `Ngene` by `Nsample` matrix)\n",
    "\n",
    "\n",
    "\n",
    "A rough illustration of the generation procedure follows:\n",
    "\n",
    "1. Fraction of cell types (`F`) is generated from the Dirichlet distribution $F\\sim\\mathcal{D}(5)$)\n",
    "2. Per cell type gene expression profiles (`Mu`) are generated from the normal distribution $Mu\\sim\\mathcal{N}(0, 2)$. The sampled gene expression profiles are in log-scale.\n",
    "3. Given variation level (`Noise`), gene expression profile per cell type in each sample (`X`) is generated from the normal distribution $X\\sim\\mathcal{N}(\\mu=Mu, \\Omega=Noise)$\n",
    "4. Bulk gene expression profile (`Y`) is calculated as follows: $Y = \\log(F\\cdot \\exp(X)+1)$\n"
   ]
  },
  {
   "cell_type": "code",
   "execution_count": 3,
   "metadata": {},
   "outputs": [],
   "source": [
    "simfile = '../simulationdata.pickle'\n",
    "if not os.path.exists(simfile):\n",
    "    Synthetic_data = dict()\n",
    "else:\n",
    "    Synthetic_data = pickle.load(open(simfile, 'rb'))\n",
    "\n",
    "for Ncell, Ngene, Nsample, Noise in itertools.product(\n",
    "    Ncells, Ngenes, Nsamples, Noises\n",
    "            ):\n",
    "    name = str(Ncell) +'_'+ str(Ngene) +'_'+ str(Nsample) +'_'+ str(Noise)\n",
    "    \n",
    "    if not name in list(Synthetic_data.keys()):\n",
    "        F = np.random.dirichlet(np.ones(Ncell)*5, Nsample).transpose()\n",
    "        Mu = np.random.normal(0, 2, size=(Ngene,Ncell))\n",
    "        Omega = np.ones((Ngene,Ncell)) * Noise\n",
    "\n",
    "        X = np.random.normal(Mu, np.square(Omega), size=(Nsample, Ngene, Ncell))\n",
    "        Y = np.zeros((Ngene, Nsample))\n",
    "        for i in range(Nsample):\n",
    "            Y[:,i] = np.log(np.dot(np.exp(X[i,:,:]), F[:,i])+1)\n",
    "\n",
    "    \n",
    "        Synthetic_data[name] = {\n",
    "            'Coef': F,\n",
    "            'Mu' : Mu,\n",
    "            'X' : X,\n",
    "            'Y' : Y,\n",
    "            'Omega' : Omega\n",
    "        }\n",
    "        \n",
    "with open(simfile, 'wb') as fp:\n",
    "    pickle.dump(Synthetic_data, fp, protocol=pickle.HIGHEST_PROTOCOL)"
   ]
  },
  {
   "cell_type": "markdown",
   "metadata": {},
   "source": [
    "## Application of deconvolution methods\n",
    "\n",
    "From here, we will apply the following three methods for further performance comparison:\n",
    "1. BLADE (estimation of cellular fraction + group-mode/high-resolution-mode purification)\n",
    "2. NNLS (estimation of fraction)\n",
    "3. SVR followed by NNLS (estimation of fraction + group-mode purification) - similar to CIBERSORTx\n",
    "\n",
    "\n",
    "### 1. Application of BLADE\n",
    "\n",
    "These are the key parameters used in BLADE (note that there is default settings of these parameters, if not specified):\n",
    "- Hyperparameters (`hyperpars`): `Alpha`, `Alpha0`, `Kappa0` and `SigmaY`, each of which can be defined as a list of options. BLADE takes an empirical Bayes approach to find the optimal parameter set given the all possible combinations. \n",
    "- `Nrep`: Number of repeat for evaluating each parameter configuration.\n",
    "- `Nrepfinal`: Number of repeated optimizations for the final parameter set.\n",
    "- `Njob`: Number of parallel jobs."
   ]
  },
  {
   "cell_type": "code",
   "execution_count": 4,
   "metadata": {},
   "outputs": [],
   "source": [
    "hyperpars = {\n",
    "    'Alpha': [1, 10],\n",
    "    'Alpha0': [0.1, 0.5, 1, 5, 10],\n",
    "    'Kappa0': [1, 0.5, 0.1],\n",
    "    'SY': np.sqrt([0.1, 0.5, 1, 1.5, 2])\n",
    "}\n",
    "\n",
    "Nrep=3\n",
    "Nrepfinal=10\n",
    "Njob=50"
   ]
  },
  {
   "cell_type": "markdown",
   "metadata": {},
   "source": [
    "Given the configuration above, BLADE is applied to each of the simulation dataset created previously.  \n",
    "\n",
    "BLADE produce several outcomes:\n",
    "- `final_obj`: final BLADE object with optimized variational parameters\n",
    "- `best_obj`: BLADE object trained with the best parameter set found by the Empirical Bayes framework. Empirical Bayes framework is applied after selecting a subset of samples (5 samples; indicated by `Ind_sample` below), and thus the outcome contains only 5 samples. If `Nsample` <= 5, `final_obj` is identical to `best_obj`.\n",
    "- `best_set`: Best parameter set defined by Empirical Bayes framework.\n",
    "- `outs`: Outcome of BLADE for every possible combination of hyperparameters, used in the Empirical Bayes framework. \n"
   ]
  },
  {
   "cell_type": "code",
   "execution_count": 5,
   "metadata": {
    "scrolled": false
   },
   "outputs": [
    {
     "name": "stdout",
     "output_type": "stream",
     "text": [
      "creating ../data/BLADE_outcome_3_200_20_0.25.pickle\n",
      "all of 200 genes are used for optimization.\n",
      "All samples are used during the optimization.\n",
      "Initialization with Support vector regression\n"
     ]
    },
    {
     "name": "stderr",
     "output_type": "stream",
     "text": [
      "[Parallel(n_jobs=50)]: Using backend LokyBackend with 50 concurrent workers.\n",
      "[Parallel(n_jobs=50)]: Done   2 out of  20 | elapsed:    2.4s remaining:   21.3s\n",
      "[Parallel(n_jobs=50)]: Done   5 out of  20 | elapsed:    2.4s remaining:    7.3s\n",
      "[Parallel(n_jobs=50)]: Done   8 out of  20 | elapsed:    2.5s remaining:    3.8s\n",
      "[Parallel(n_jobs=50)]: Done  11 out of  20 | elapsed:    2.6s remaining:    2.1s\n",
      "[Parallel(n_jobs=50)]: Done  14 out of  20 | elapsed:    2.8s remaining:    1.2s\n",
      "[Parallel(n_jobs=50)]: Done  17 out of  20 | elapsed:    2.9s remaining:    0.5s\n",
      "[Parallel(n_jobs=50)]: Done  20 out of  20 | elapsed:    3.4s remaining:    0.0s\n",
      "[Parallel(n_jobs=50)]: Done  20 out of  20 | elapsed:    3.4s finished\n",
      "[Parallel(n_jobs=50)]: Using backend LokyBackend with 50 concurrent workers.\n"
     ]
    },
    {
     "name": "stdout",
     "output_type": "stream",
     "text": [
      "No feature filtering is done (fsel = 0)\n"
     ]
    },
    {
     "name": "stderr",
     "output_type": "stream",
     "text": [
      "[Parallel(n_jobs=50)]: Done  13 tasks      | elapsed:  1.6min\n",
      "[Parallel(n_jobs=50)]: Done  28 tasks      | elapsed:  2.0min\n",
      "[Parallel(n_jobs=50)]: Done  45 tasks      | elapsed:  2.4min\n",
      "[Parallel(n_jobs=50)]: Done  62 tasks      | elapsed:  2.8min\n",
      "[Parallel(n_jobs=50)]: Done  81 tasks      | elapsed:  3.4min\n",
      "[Parallel(n_jobs=50)]: Done 100 tasks      | elapsed:  3.8min\n",
      "[Parallel(n_jobs=50)]: Done 121 tasks      | elapsed:  4.1min\n",
      "[Parallel(n_jobs=50)]: Done 142 tasks      | elapsed:  4.5min\n",
      "[Parallel(n_jobs=50)]: Done 165 tasks      | elapsed:  4.9min\n",
      "[Parallel(n_jobs=50)]: Done 188 tasks      | elapsed:  5.3min\n",
      "[Parallel(n_jobs=50)]: Done 213 tasks      | elapsed:  5.9min\n",
      "[Parallel(n_jobs=50)]: Done 238 tasks      | elapsed:  6.5min\n",
      "[Parallel(n_jobs=50)]: Done 265 tasks      | elapsed:  7.2min\n",
      "[Parallel(n_jobs=50)]: Done 292 tasks      | elapsed:  7.8min\n",
      "[Parallel(n_jobs=50)]: Done 321 tasks      | elapsed:  8.5min\n",
      "[Parallel(n_jobs=50)]: Done 350 tasks      | elapsed:  9.0min\n",
      "[Parallel(n_jobs=50)]: Done 397 out of 450 | elapsed:  9.6min remaining:  1.3min\n",
      "[Parallel(n_jobs=50)]: Done 443 out of 450 | elapsed: 10.5min remaining:   10.0s\n",
      "[Parallel(n_jobs=50)]: Done 450 out of 450 | elapsed: 10.9min finished\n"
     ]
    },
    {
     "name": "stdout",
     "output_type": "stream",
     "text": [
      "Done optimization, elapsed time (min): 10.989733624458314\n",
      "creating ../data/BLADE_outcome_3_200_20_0.5.pickle\n",
      "all of 200 genes are used for optimization.\n",
      "All samples are used during the optimization.\n",
      "Initialization with Support vector regression\n"
     ]
    },
    {
     "name": "stderr",
     "output_type": "stream",
     "text": [
      "[Parallel(n_jobs=50)]: Using backend LokyBackend with 50 concurrent workers.\n",
      "[Parallel(n_jobs=50)]: Batch computation too fast (0.1072s.) Setting batch_size=2.\n",
      "[Parallel(n_jobs=50)]: Done   2 out of  20 | elapsed:    0.1s remaining:    1.0s\n",
      "[Parallel(n_jobs=50)]: Done   5 out of  20 | elapsed:    0.1s remaining:    0.4s\n",
      "[Parallel(n_jobs=50)]: Done   8 out of  20 | elapsed:    0.2s remaining:    0.3s\n",
      "[Parallel(n_jobs=50)]: Done  11 out of  20 | elapsed:    0.2s remaining:    0.2s\n",
      "[Parallel(n_jobs=50)]: Done  14 out of  20 | elapsed:    0.2s remaining:    0.1s\n",
      "[Parallel(n_jobs=50)]: Done  17 out of  20 | elapsed:    0.2s remaining:    0.0s\n",
      "[Parallel(n_jobs=50)]: Done  20 out of  20 | elapsed:    0.5s remaining:    0.0s\n",
      "[Parallel(n_jobs=50)]: Done  20 out of  20 | elapsed:    0.5s finished\n",
      "[Parallel(n_jobs=50)]: Using backend LokyBackend with 50 concurrent workers.\n"
     ]
    },
    {
     "name": "stdout",
     "output_type": "stream",
     "text": [
      "No feature filtering is done (fsel = 0)\n"
     ]
    },
    {
     "name": "stderr",
     "output_type": "stream",
     "text": [
      "[Parallel(n_jobs=50)]: Done  13 tasks      | elapsed:   20.1s\n",
      "[Parallel(n_jobs=50)]: Done  28 tasks      | elapsed:   30.3s\n",
      "[Parallel(n_jobs=50)]: Done  45 tasks      | elapsed:   40.9s\n",
      "[Parallel(n_jobs=50)]: Done  62 tasks      | elapsed:   51.8s\n",
      "[Parallel(n_jobs=50)]: Done  81 tasks      | elapsed:  1.1min\n",
      "[Parallel(n_jobs=50)]: Done 100 tasks      | elapsed:  1.4min\n",
      "[Parallel(n_jobs=50)]: Done 121 tasks      | elapsed:  1.6min\n",
      "[Parallel(n_jobs=50)]: Done 142 tasks      | elapsed:  1.8min\n",
      "[Parallel(n_jobs=50)]: Done 165 tasks      | elapsed:  2.0min\n",
      "[Parallel(n_jobs=50)]: Done 188 tasks      | elapsed:  2.2min\n",
      "[Parallel(n_jobs=50)]: Done 213 tasks      | elapsed:  2.5min\n",
      "[Parallel(n_jobs=50)]: Done 238 tasks      | elapsed:  2.6min\n",
      "[Parallel(n_jobs=50)]: Done 265 tasks      | elapsed:  2.9min\n",
      "[Parallel(n_jobs=50)]: Done 292 tasks      | elapsed:  3.3min\n",
      "[Parallel(n_jobs=50)]: Done 321 tasks      | elapsed:  3.5min\n",
      "[Parallel(n_jobs=50)]: Done 350 tasks      | elapsed:  3.9min\n",
      "[Parallel(n_jobs=50)]: Done 397 out of 450 | elapsed:  4.3min remaining:   34.6s\n",
      "[Parallel(n_jobs=50)]: Done 443 out of 450 | elapsed:  4.6min remaining:    4.4s\n",
      "[Parallel(n_jobs=50)]: Done 450 out of 450 | elapsed:  5.2min finished\n"
     ]
    },
    {
     "name": "stdout",
     "output_type": "stream",
     "text": [
      "Done optimization, elapsed time (min): 5.189812338352203\n",
      "creating ../data/BLADE_outcome_3_200_20_0.75.pickle\n",
      "all of 200 genes are used for optimization.\n",
      "All samples are used during the optimization.\n",
      "Initialization with Support vector regression\n"
     ]
    },
    {
     "name": "stderr",
     "output_type": "stream",
     "text": [
      "[Parallel(n_jobs=50)]: Using backend LokyBackend with 50 concurrent workers.\n",
      "[Parallel(n_jobs=50)]: Batch computation too fast (0.0773s.) Setting batch_size=2.\n",
      "[Parallel(n_jobs=50)]: Done   2 out of  20 | elapsed:    0.1s remaining:    0.7s\n",
      "[Parallel(n_jobs=50)]: Done   5 out of  20 | elapsed:    0.1s remaining:    0.4s\n",
      "[Parallel(n_jobs=50)]: Done   8 out of  20 | elapsed:    0.1s remaining:    0.2s\n",
      "[Parallel(n_jobs=50)]: Done  11 out of  20 | elapsed:    0.2s remaining:    0.1s\n",
      "[Parallel(n_jobs=50)]: Done  14 out of  20 | elapsed:    0.2s remaining:    0.1s\n",
      "[Parallel(n_jobs=50)]: Done  17 out of  20 | elapsed:    0.2s remaining:    0.0s\n",
      "[Parallel(n_jobs=50)]: Done  20 out of  20 | elapsed:    0.5s remaining:    0.0s\n",
      "[Parallel(n_jobs=50)]: Done  20 out of  20 | elapsed:    0.5s finished\n",
      "[Parallel(n_jobs=50)]: Using backend LokyBackend with 50 concurrent workers.\n"
     ]
    },
    {
     "name": "stdout",
     "output_type": "stream",
     "text": [
      "No feature filtering is done (fsel = 0)\n"
     ]
    },
    {
     "name": "stderr",
     "output_type": "stream",
     "text": [
      "[Parallel(n_jobs=50)]: Done  13 tasks      | elapsed:   12.2s\n",
      "[Parallel(n_jobs=50)]: Done  28 tasks      | elapsed:   18.2s\n",
      "[Parallel(n_jobs=50)]: Done  45 tasks      | elapsed:   23.7s\n",
      "[Parallel(n_jobs=50)]: Done  62 tasks      | elapsed:   31.3s\n",
      "[Parallel(n_jobs=50)]: Done  81 tasks      | elapsed:   39.7s\n",
      "[Parallel(n_jobs=50)]: Done 100 tasks      | elapsed:   46.3s\n",
      "[Parallel(n_jobs=50)]: Done 121 tasks      | elapsed:   55.0s\n",
      "[Parallel(n_jobs=50)]: Done 142 tasks      | elapsed:  1.1min\n",
      "[Parallel(n_jobs=50)]: Done 165 tasks      | elapsed:  1.3min\n",
      "[Parallel(n_jobs=50)]: Done 188 tasks      | elapsed:  1.4min\n",
      "[Parallel(n_jobs=50)]: Done 213 tasks      | elapsed:  1.6min\n",
      "[Parallel(n_jobs=50)]: Done 238 tasks      | elapsed:  1.8min\n",
      "[Parallel(n_jobs=50)]: Done 265 tasks      | elapsed:  2.0min\n",
      "[Parallel(n_jobs=50)]: Done 292 tasks      | elapsed:  2.2min\n",
      "[Parallel(n_jobs=50)]: Done 321 tasks      | elapsed:  2.3min\n",
      "[Parallel(n_jobs=50)]: Done 350 tasks      | elapsed:  2.6min\n",
      "[Parallel(n_jobs=50)]: Done 397 out of 450 | elapsed:  2.8min remaining:   22.8s\n",
      "[Parallel(n_jobs=50)]: Done 443 out of 450 | elapsed:  3.2min remaining:    3.1s\n",
      "[Parallel(n_jobs=50)]: Done 450 out of 450 | elapsed:  3.6min finished\n"
     ]
    },
    {
     "name": "stdout",
     "output_type": "stream",
     "text": [
      "Done optimization, elapsed time (min): 3.6257901310920717\n",
      "creating ../data/BLADE_outcome_3_200_20_1.pickle\n",
      "all of 200 genes are used for optimization.\n",
      "All samples are used during the optimization.\n",
      "Initialization with Support vector regression\n",
      "No feature filtering is done (fsel = 0)\n"
     ]
    },
    {
     "name": "stderr",
     "output_type": "stream",
     "text": [
      "[Parallel(n_jobs=50)]: Using backend LokyBackend with 50 concurrent workers.\n",
      "[Parallel(n_jobs=50)]: Batch computation too fast (0.0481s.) Setting batch_size=2.\n",
      "[Parallel(n_jobs=50)]: Done   2 out of  20 | elapsed:    0.1s remaining:    0.5s\n",
      "[Parallel(n_jobs=50)]: Done   5 out of  20 | elapsed:    0.1s remaining:    0.2s\n",
      "[Parallel(n_jobs=50)]: Done   8 out of  20 | elapsed:    0.1s remaining:    0.1s\n",
      "[Parallel(n_jobs=50)]: Done  11 out of  20 | elapsed:    0.1s remaining:    0.1s\n",
      "[Parallel(n_jobs=50)]: Done  14 out of  20 | elapsed:    0.1s remaining:    0.0s\n",
      "[Parallel(n_jobs=50)]: Done  17 out of  20 | elapsed:    0.1s remaining:    0.0s\n",
      "[Parallel(n_jobs=50)]: Done  20 out of  20 | elapsed:    0.2s remaining:    0.0s\n",
      "[Parallel(n_jobs=50)]: Done  20 out of  20 | elapsed:    0.2s finished\n",
      "[Parallel(n_jobs=50)]: Using backend LokyBackend with 50 concurrent workers.\n",
      "[Parallel(n_jobs=50)]: Done  13 tasks      | elapsed:   12.2s\n",
      "[Parallel(n_jobs=50)]: Done  28 tasks      | elapsed:   16.1s\n",
      "[Parallel(n_jobs=50)]: Done  45 tasks      | elapsed:   22.8s\n",
      "[Parallel(n_jobs=50)]: Done  62 tasks      | elapsed:   29.7s\n",
      "[Parallel(n_jobs=50)]: Done  81 tasks      | elapsed:   35.7s\n",
      "[Parallel(n_jobs=50)]: Done 100 tasks      | elapsed:   43.4s\n",
      "[Parallel(n_jobs=50)]: Done 121 tasks      | elapsed:   50.8s\n",
      "[Parallel(n_jobs=50)]: Done 142 tasks      | elapsed:   57.4s\n",
      "[Parallel(n_jobs=50)]: Done 165 tasks      | elapsed:  1.1min\n",
      "[Parallel(n_jobs=50)]: Done 188 tasks      | elapsed:  1.2min\n",
      "[Parallel(n_jobs=50)]: Done 213 tasks      | elapsed:  1.3min\n",
      "[Parallel(n_jobs=50)]: Done 238 tasks      | elapsed:  1.5min\n",
      "[Parallel(n_jobs=50)]: Done 265 tasks      | elapsed:  1.6min\n",
      "[Parallel(n_jobs=50)]: Done 292 tasks      | elapsed:  1.8min\n",
      "[Parallel(n_jobs=50)]: Done 321 tasks      | elapsed:  1.9min\n",
      "[Parallel(n_jobs=50)]: Done 350 tasks      | elapsed:  2.1min\n",
      "[Parallel(n_jobs=50)]: Done 397 out of 450 | elapsed:  2.3min remaining:   18.8s\n",
      "[Parallel(n_jobs=50)]: Done 443 out of 450 | elapsed:  2.6min remaining:    2.4s\n",
      "[Parallel(n_jobs=50)]: Done 450 out of 450 | elapsed:  2.8min finished\n"
     ]
    },
    {
     "name": "stdout",
     "output_type": "stream",
     "text": [
      "Done optimization, elapsed time (min): 2.793086063861847\n",
      "creating ../data/BLADE_outcome_3_200_20_1.25.pickle\n",
      "all of 200 genes are used for optimization.\n",
      "All samples are used during the optimization.\n",
      "Initialization with Support vector regression\n"
     ]
    },
    {
     "name": "stderr",
     "output_type": "stream",
     "text": [
      "[Parallel(n_jobs=50)]: Using backend LokyBackend with 50 concurrent workers.\n",
      "[Parallel(n_jobs=50)]: Batch computation too fast (0.0597s.) Setting batch_size=2.\n",
      "[Parallel(n_jobs=50)]: Done   2 out of  20 | elapsed:    0.1s remaining:    0.6s\n",
      "[Parallel(n_jobs=50)]: Done   5 out of  20 | elapsed:    0.1s remaining:    0.2s\n",
      "[Parallel(n_jobs=50)]: Done   8 out of  20 | elapsed:    0.1s remaining:    0.2s\n",
      "[Parallel(n_jobs=50)]: Done  11 out of  20 | elapsed:    0.2s remaining:    0.2s\n",
      "[Parallel(n_jobs=50)]: Done  14 out of  20 | elapsed:    0.2s remaining:    0.1s\n",
      "[Parallel(n_jobs=50)]: Done  17 out of  20 | elapsed:    0.3s remaining:    0.1s\n",
      "[Parallel(n_jobs=50)]: Done  20 out of  20 | elapsed:    0.4s remaining:    0.0s\n",
      "[Parallel(n_jobs=50)]: Done  20 out of  20 | elapsed:    0.4s finished\n",
      "[Parallel(n_jobs=50)]: Using backend LokyBackend with 50 concurrent workers.\n"
     ]
    },
    {
     "name": "stdout",
     "output_type": "stream",
     "text": [
      "No feature filtering is done (fsel = 0)\n"
     ]
    },
    {
     "name": "stderr",
     "output_type": "stream",
     "text": [
      "[Parallel(n_jobs=50)]: Done  13 tasks      | elapsed:   11.8s\n",
      "[Parallel(n_jobs=50)]: Done  28 tasks      | elapsed:   16.1s\n",
      "[Parallel(n_jobs=50)]: Done  45 tasks      | elapsed:   20.8s\n",
      "[Parallel(n_jobs=50)]: Done  62 tasks      | elapsed:   26.9s\n",
      "[Parallel(n_jobs=50)]: Done  81 tasks      | elapsed:   31.7s\n",
      "[Parallel(n_jobs=50)]: Done 100 tasks      | elapsed:   39.5s\n",
      "[Parallel(n_jobs=50)]: Done 121 tasks      | elapsed:   45.6s\n",
      "[Parallel(n_jobs=50)]: Done 142 tasks      | elapsed:   52.4s\n",
      "[Parallel(n_jobs=50)]: Done 165 tasks      | elapsed:   59.3s\n",
      "[Parallel(n_jobs=50)]: Done 188 tasks      | elapsed:  1.1min\n",
      "[Parallel(n_jobs=50)]: Done 213 tasks      | elapsed:  1.3min\n",
      "[Parallel(n_jobs=50)]: Done 238 tasks      | elapsed:  1.4min\n",
      "[Parallel(n_jobs=50)]: Done 265 tasks      | elapsed:  1.6min\n",
      "[Parallel(n_jobs=50)]: Done 292 tasks      | elapsed:  1.8min\n",
      "[Parallel(n_jobs=50)]: Done 321 tasks      | elapsed:  2.0min\n",
      "[Parallel(n_jobs=50)]: Done 350 tasks      | elapsed:  2.1min\n",
      "[Parallel(n_jobs=50)]: Done 397 out of 450 | elapsed:  2.4min remaining:   19.1s\n",
      "[Parallel(n_jobs=50)]: Done 443 out of 450 | elapsed:  2.6min remaining:    2.5s\n",
      "[Parallel(n_jobs=50)]: Done 450 out of 450 | elapsed:  2.9min finished\n"
     ]
    },
    {
     "name": "stdout",
     "output_type": "stream",
     "text": [
      "Done optimization, elapsed time (min): 2.920480541388194\n",
      "creating ../data/BLADE_outcome_3_200_20_1.5.pickle\n",
      "all of 200 genes are used for optimization.\n",
      "All samples are used during the optimization.\n",
      "Initialization with Support vector regression\n",
      "No feature filtering is done (fsel = 0)\n"
     ]
    },
    {
     "name": "stderr",
     "output_type": "stream",
     "text": [
      "[Parallel(n_jobs=50)]: Using backend LokyBackend with 50 concurrent workers.\n",
      "[Parallel(n_jobs=50)]: Batch computation too fast (0.0213s.) Setting batch_size=2.\n",
      "[Parallel(n_jobs=50)]: Done   2 out of  20 | elapsed:    0.0s remaining:    0.2s\n",
      "[Parallel(n_jobs=50)]: Done   5 out of  20 | elapsed:    0.0s remaining:    0.1s\n",
      "[Parallel(n_jobs=50)]: Done   8 out of  20 | elapsed:    0.0s remaining:    0.1s\n",
      "[Parallel(n_jobs=50)]: Done  11 out of  20 | elapsed:    0.0s remaining:    0.0s\n",
      "[Parallel(n_jobs=50)]: Done  14 out of  20 | elapsed:    0.0s remaining:    0.0s\n",
      "[Parallel(n_jobs=50)]: Done  17 out of  20 | elapsed:    0.1s remaining:    0.0s\n",
      "[Parallel(n_jobs=50)]: Done  20 out of  20 | elapsed:    0.2s remaining:    0.0s\n",
      "[Parallel(n_jobs=50)]: Done  20 out of  20 | elapsed:    0.2s finished\n",
      "[Parallel(n_jobs=50)]: Using backend LokyBackend with 50 concurrent workers.\n",
      "[Parallel(n_jobs=50)]: Done  13 tasks      | elapsed:   12.3s\n",
      "[Parallel(n_jobs=50)]: Done  28 tasks      | elapsed:   15.1s\n",
      "[Parallel(n_jobs=50)]: Done  45 tasks      | elapsed:   19.8s\n",
      "[Parallel(n_jobs=50)]: Done  62 tasks      | elapsed:   26.3s\n",
      "[Parallel(n_jobs=50)]: Done  81 tasks      | elapsed:   32.5s\n",
      "[Parallel(n_jobs=50)]: Done 100 tasks      | elapsed:   37.7s\n",
      "[Parallel(n_jobs=50)]: Done 121 tasks      | elapsed:   44.2s\n",
      "[Parallel(n_jobs=50)]: Done 142 tasks      | elapsed:   48.8s\n",
      "[Parallel(n_jobs=50)]: Done 165 tasks      | elapsed:   57.0s\n",
      "[Parallel(n_jobs=50)]: Done 188 tasks      | elapsed:  1.0min\n",
      "[Parallel(n_jobs=50)]: Done 213 tasks      | elapsed:  1.2min\n",
      "[Parallel(n_jobs=50)]: Done 238 tasks      | elapsed:  1.3min\n",
      "[Parallel(n_jobs=50)]: Done 265 tasks      | elapsed:  1.4min\n",
      "[Parallel(n_jobs=50)]: Done 292 tasks      | elapsed:  1.5min\n",
      "[Parallel(n_jobs=50)]: Done 321 tasks      | elapsed:  1.7min\n",
      "[Parallel(n_jobs=50)]: Done 350 tasks      | elapsed:  1.8min\n",
      "[Parallel(n_jobs=50)]: Done 397 out of 450 | elapsed:  2.0min remaining:   16.2s\n",
      "[Parallel(n_jobs=50)]: Done 443 out of 450 | elapsed:  2.2min remaining:    2.1s\n",
      "[Parallel(n_jobs=50)]: Done 450 out of 450 | elapsed:  2.3min finished\n"
     ]
    },
    {
     "name": "stdout",
     "output_type": "stream",
     "text": [
      "Done optimization, elapsed time (min): 2.3200970888137817\n"
     ]
    }
   ],
   "source": [
    "for Ncell, Ngene, Nsample, Noise in itertools.product(\n",
    "    Ncells, Ngenes, Nsamples, Noises,\n",
    "                ):\n",
    "\n",
    "    name = str(Ncell) +'_'+ str(Ngene) +'_'+ str(Nsample) +'_'+ str(Noise)\n",
    "    outfile = '../data/BLADE_outcome_' + name + '.pickle'\n",
    "\n",
    "    if not os.path.exists(outfile):\n",
    "        print('creating ' + outfile)\n",
    "        Y = np.exp(Synthetic_data[name]['Y']) - 1 #transform to the original scale\n",
    "        mean = Synthetic_data[name]['Mu']\n",
    "        sd = Synthetic_data[name]['Omega']\n",
    "        \n",
    "        final_obj, best_obj, best_set, outs = Framework(\n",
    "            mean, sd, Y,\n",
    "            Alphas=hyperpars['Alpha'], Alpha0s=hyperpars['Alpha0'], \n",
    "            Kappa0s=hyperpars['Kappa0'], SYs=hyperpars['SY'],\n",
    "            Nrep=Nrep, Njob=Njob, Nrepfinal=Nrepfinal)\n",
    "        \n",
    "        pickle.dump(\n",
    "            {\n",
    "                'final_obj': final_obj,\n",
    "                'best_obj': best_obj,\n",
    "                'best_set': best_set,\n",
    "                'outs' : outs\n",
    "            },\n",
    "                open(outfile, 'wb')\n",
    "        )"
   ]
  },
  {
   "cell_type": "markdown",
   "metadata": {},
   "source": [
    "### 2. Application of NNLS \n",
    "\n",
    "Non-negative least square is applied to obtain cellular fraction (`F`) using bulk gene expression profiles (`Y`) and gene expression signatures (`Mu`; average gene expression profiles per cell type). Note that NNLS should be applied to linear-scale data. The simulation data in `Synthetic_data` are in log-scale ($f(x)=\\log(x+1)$ for `Y` and $f(x)=\\log(x)$ for `Mu`), so they are transformed back to the linear scale."
   ]
  },
  {
   "cell_type": "code",
   "execution_count": 6,
   "metadata": {},
   "outputs": [
    {
     "name": "stdout",
     "output_type": "stream",
     "text": [
      "creating ../data/NNLS_outcome_3_200_20_0.25.pickle\n",
      "creating ../data/NNLS_outcome_3_200_20_0.5.pickle\n",
      "creating ../data/NNLS_outcome_3_200_20_0.75.pickle\n",
      "creating ../data/NNLS_outcome_3_200_20_1.pickle\n",
      "creating ../data/NNLS_outcome_3_200_20_1.25.pickle\n",
      "creating ../data/NNLS_outcome_3_200_20_1.5.pickle\n"
     ]
    }
   ],
   "source": [
    "for Ncell, Ngene, Nsample, Noise in itertools.product(\n",
    "    Ncells, Ngenes, Nsamples, Noises,\n",
    "                ):\n",
    "\n",
    "    name = str(Ncell) +'_'+ str(Ngene) +'_'+ str(Nsample) +'_'+ str(Noise)\n",
    "    outfile = '../data/NNLS_outcome_' + name + '.pickle'\n",
    "\n",
    "    if not os.path.exists(outfile):\n",
    "        \n",
    "        print('creating ' + outfile)\n",
    "        Y = np.exp(Synthetic_data[name]['Y'])-1 # transform back to linear scale\n",
    "        Mu = np.exp(Synthetic_data[name]['Mu']) # transform back to linear scale\n",
    "        \n",
    "        NNLS_F = np.zeros(Synthetic_data[name]['Coef'].shape)\n",
    "        for i in range(Nsample):\n",
    "            NNLS_F[:,i] = nnls(Mu, Y[:,i])[0]\n",
    "            NNLS_F[:,i] = NNLS_F[:,i]/np.sum(NNLS_F[:,i])\n",
    "        \n",
    "        pickle.dump(\n",
    "            {\n",
    "                'Fraction': NNLS_F\n",
    "            },\n",
    "            open(outfile, 'wb')\n",
    "        )"
   ]
  },
  {
   "cell_type": "markdown",
   "metadata": {},
   "source": [
    "### 3. Application of SVR followed by NNLS (SVR_NNLS)\n",
    "\n",
    "SVR has been applied for estimation of cellular fractions (`Fraction`). As in CIBERSORT and CIBERSORTx, we used here Nu-SVR where the `Nu` controls the number of genes used in deconvolution. In CIBERSORTx, a sequencial approach is taken to also estimate gene expression profiles per cell type (both group-mode purification and high-resolution-mode purification). Here, we implement only the group-mode-purification (which we saved as `Signature`).\n",
    "\n",
    "As in NNLS, both bulk gene expression profiles (Y) and gene expression sigantures (Mu; average gene expression profiles per cell type) should be transformed to linear-scale.\n"
   ]
  },
  {
   "cell_type": "code",
   "execution_count": 7,
   "metadata": {},
   "outputs": [
    {
     "name": "stdout",
     "output_type": "stream",
     "text": [
      "creating ../data/SVR_NNLS_outcome_3_200_20_0.25.pickle\n",
      "creating ../data/SVR_NNLS_outcome_3_200_20_0.5.pickle\n",
      "creating ../data/SVR_NNLS_outcome_3_200_20_0.75.pickle\n",
      "creating ../data/SVR_NNLS_outcome_3_200_20_1.pickle\n",
      "creating ../data/SVR_NNLS_outcome_3_200_20_1.25.pickle\n",
      "creating ../data/SVR_NNLS_outcome_3_200_20_1.5.pickle\n"
     ]
    }
   ],
   "source": [
    "for Ncell, Ngene, Nsample, Noise in itertools.product(\n",
    "    Ncells, Ngenes, Nsamples, Noises,\n",
    "                ):\n",
    "\n",
    "    name = str(Ncell) +'_'+ str(Ngene) +'_'+ str(Nsample) +'_'+ str(Noise)\n",
    "    outfile = '../data/SVR_NNLS_outcome_' + name + '.pickle'\n",
    "\n",
    "    if not os.path.exists(outfile):\n",
    "        \n",
    "        print('creating ' + outfile)\n",
    "        Y = np.exp(Synthetic_data[name]['Y']) - 1\n",
    "        Mu = np.exp(Synthetic_data[name]['Mu'])\n",
    "   \n",
    "        # estimate fraction\n",
    "        SVRcoef = np.zeros((Ncell, Nsample))\n",
    "        Selcoef = np.zeros((Ngene, Nsample))\n",
    "        Nus = [0.25, 0.5, 0.75]\n",
    "        for i in range(Nsample):\n",
    "            sols = [NuSVR(kernel='linear', nu=nu).fit(Mu,Y[:,i]) for nu in Nus]\n",
    "            RMSE = [mse(sol.predict(Mu), Y[:,i]) for sol in sols]\n",
    "            Selcoef[sols[np.argmin(RMSE)].support_, i] = 1\n",
    "            SVRcoef[:,i] = np.maximum(sols[np.argmin(RMSE)].coef_,0)\n",
    "            SVRcoef[:,i] = SVRcoef[:,i]/np.sum(SVRcoef[:,i])\n",
    "            \n",
    "           \n",
    "        # estimate per-cell expression\n",
    "        NNLS_Sig = np.zeros((Ngene, Ncell))\n",
    "        for g in range(Ngene):\n",
    "            NNLS_Sig[g,:] = nnls(np.transpose(SVRcoef), Y[g,:])[0]\n",
    "        \n",
    "        pickle.dump(\n",
    "            {\n",
    "                'Fraction' : SVRcoef,\n",
    "                'Signature': NNLS_Sig\n",
    "             },\n",
    "            open(outfile, 'wb')\n",
    "         )"
   ]
  },
  {
   "cell_type": "markdown",
   "metadata": {},
   "source": [
    "## Performance evaluation\n",
    "\n",
    "We evaluated the performance for each data set in both per-cell and per-sample manner. In the function below (`measure_performance`), we implemented a function to collect the performances.\n",
    "\n",
    "Specifically,\n",
    "- Per cell type (`row_PerCell`):\n",
    " - `Cor_Fraction`: Pearson correlation coefficients of true (`true_f`) and estimated cellular fractions (`est_f`) per cell type across the samples.\n",
    " - `Cor_Signature`: Pearson correlation coefficients of true (`true_mean`) and estimated average gene expression profiles per cell type (Signatures; `est_mean`)\n",
    " - `Cor_HighRes`: Perason correaltion coefficients of true (`true_X`) and estimated gene expresion profile per cell type per sample (`est_X`). An average Pearson correlation per cell type is obtained.\n",
    " \n",
    "- Summary (`row_Summary`):\n",
    " - Average performances of each measure in `row_PerCell` is obtained."
   ]
  },
  {
   "cell_type": "code",
   "execution_count": 8,
   "metadata": {},
   "outputs": [],
   "source": [
    "def measure_performance(true_f, true_mean, true_X, \n",
    "                        est_f, est_mean=None, est_X=None):\n",
    "    Nsample, Ngene, Ncell = true_X.shape\n",
    "    \n",
    "    # group-mode purification performance\n",
    "    if est_mean is not None:\n",
    "        CorMean = [np.corrcoef(true_mean[:,i], est_mean[:,i], rowvar=True)[0,1] for i in range(Ncell)]\n",
    "    else:\n",
    "        CorMean = np.nan*np.zeros((Ncell))\n",
    "    \n",
    "    # high-resolution purification performance\n",
    "    if est_X is not None:\n",
    "        perf_highresCell = [\n",
    "                np.mean(\n",
    "                    [np.corrcoef(true_X[sample,:,cell], est_X[sample,:,cell])[0,1] for sample in range(Nsample)]\n",
    "                ) for cell in range(Ncell)\n",
    "            ]\n",
    "        perf_highresSample = [\n",
    "                np.mean(\n",
    "                    [np.corrcoef(true_X[sample,:,cell], est_X[sample,:,cell])[0,1] for cell in range(Ncell)]\n",
    "                ) for sample in range(Nsample)\n",
    "            ]\n",
    "    else:\n",
    "        perf_highresCell = [np.nan]*Ncell\n",
    "        perf_highresSample = [np.nan]*Nsample\n",
    "    \n",
    "    # Performance: per cell type\n",
    "    CorsF = [np.corrcoef(true_f[i,:], est_f[i,:], rowvar=True)[0,1] for i in range(Ncell)]\n",
    "    row_PerCell = pd.DataFrame(np.array((range(Ncell), CorsF, CorMean, perf_highresCell)).transpose(),\n",
    "                    columns = ['CellType', 'Cor_Fraction', 'Cor_Signature', 'Cor_HighRes'])\n",
    "        \n",
    "    # Performance - summary\n",
    "    row_Summary = pd.DataFrame([[np.mean(row_PerCell.Cor_Fraction), \n",
    "                                        np.mean(row_PerCell.Cor_Signature),\n",
    "                                        np.mean(row_PerCell.Cor_HighRes)\n",
    "                               ]],\n",
    "            columns = ['Cor_Fraction', 'Cor_Signature', 'Cor_HighRes']\n",
    "            )\n",
    "    return (row_PerCell, row_Summary)"
   ]
  },
  {
   "cell_type": "markdown",
   "metadata": {},
   "source": [
    "Using the function above, we will collect the performance metrics of the three methods.\n",
    "For the evaluation, we need to obtain estimates of cellular fractions, average gene expression profile per cell type (Signature; only for BLADE and SVR_NNLS), and gene expression profile per cell type in each sample (only for BLADE).\n",
    "\n",
    "Few specifics regarding the extraction of the estimates:\n",
    "\n",
    "- BLADE\n",
    " - Fraction estimation: For each sample $i$ and cell type $t$, the fraction can be calculated from the optimized variational parameter $\\beta_i^t$ as follows: $\\frac{\\beta_i^t}{\\sum_k(\\beta_i^k)}$. From the final object (`final_obj`), it can be calculated by the internal function `ExpF`.\n",
    " - Group-mode purification: Variational parameter $\\nu_{ij}^t$ represents expression level of gene $j$ of cell type $t$ in sample $i$. Thus, average gene expression per cell type is: $\\frac{1}{Nsample}\\sum_i \\nu_{ij}^t$.\n",
    " - High-resolution mode purification: we can use $\\nu_{ij}^t$ as the estimate.\n",
    "\n",
    "- NNLS\n",
    " - Fraction estimation: Regression coefficients stands for the fraction.\n",
    " - Group-mode purification: Not available\n",
    " - High-resolution-mode purification: Not available\n",
    "\n",
    "- SVR_NNLS\n",
    " - Fraction estimation: Regression coefficients from SVR.\n",
    " - Group-mode purification: Regression coefficients from NNLS.\n",
    " - High-resolution-mode purification: Not available"
   ]
  },
  {
   "cell_type": "code",
   "execution_count": 9,
   "metadata": {},
   "outputs": [],
   "source": [
    "outcome_PerCell = pd.DataFrame()\n",
    "outcome_summary = pd.DataFrame()\n",
    "                               \n",
    "for Ncell, Ngene, Nsample, Noise in itertools.product(\n",
    "    Ncells, Ngenes, Nsamples, Noises,\n",
    "                ):\n",
    "\n",
    "    name = str(Ncell) +'_'+ str(Ngene) +'_'+ str(Nsample) +'_'+ str(Noise)\n",
    "    \n",
    "    #Loading test data\n",
    "    fraction = np.array(Synthetic_data[name]['Coef'])\n",
    "    mean = np.array(Synthetic_data[name]['Mu'])\n",
    "    X = np.array(Synthetic_data[name]['X'])\n",
    "    \n",
    "    # Load outcome\n",
    "    BLADE = pickle.load(open('../data/BLADE_outcome_' + name + '.pickle', 'rb'))\n",
    "    NNLS = pickle.load(open('../data/NNLS_outcome_' + name + '.pickle', 'rb'))\n",
    "    SVR_NNLS = pickle.load(open('../data/SVR_NNLS_outcome_' + name + '.pickle', 'rb'))\n",
    "    \n",
    "    # Obtaining estimates from the three methods\n",
    "    obj = BLADE['final_obj']\n",
    "    \n",
    "    outcomes = {\n",
    "        'BLADE': {\n",
    "            'Fraction': t(obj.ExpF(obj.Beta)), \n",
    "            'Signature': np.mean(obj.Nu, 0), #group mode purification\n",
    "            'HighRes': obj.Nu                #highresolution mode purification\n",
    "        },\n",
    "        'NNLS' : {\n",
    "            'Fraction': NNLS['Fraction'],\n",
    "            'Signature': None, 'HighRes': None\n",
    "        },\n",
    "        'SVR_NNLS' : {\n",
    "            'Fraction': SVR_NNLS['Fraction'],\n",
    "            'Signature': np.log(SVR_NNLS['Signature']+0.0001),\n",
    "            'HighRes': None\n",
    "        }\n",
    "    }\n",
    "    \n",
    "    # measure performance\n",
    "    for method in outcomes:\n",
    "        rowCell, rowSummary = \\\n",
    "            measure_performance(\n",
    "                fraction, mean, X,\n",
    "                outcomes[method]['Fraction'], outcomes[method]['Signature'], outcomes[method]['HighRes']\n",
    "            )\n",
    "        rowCell['method'], rowSummary['method'] = [method]*2\n",
    "        rowCell['Ncell'], rowSummary['Ncell'] = [Ncell]*2\n",
    "        rowCell['Ngene'], rowSummary['Ngene'] = [Ngene]*2\n",
    "        rowCell['Nsample'], rowSummary['Nsample'] = [Nsample]*2\n",
    "        rowCell['Noise'], rowSummary['Noise'] = [Noise]*2\n",
    "        rowCell['dataset'], rowSummary['dataset'] = [name]*2\n",
    "    \n",
    "        # collect outcome\n",
    "        outcome_PerCell = outcome_PerCell.append(rowCell)\n",
    "        outcome_summary = outcome_summary.append(rowSummary)"
   ]
  },
  {
   "cell_type": "markdown",
   "metadata": {},
   "source": [
    "## Visualization of outcome\n",
    "\n",
    "\n",
    "### 1. Performance of cellular fraction estimation\n",
    "\n",
    "We will first visualize the performance measure per cell type.\n",
    "First of all, a boxplot can be created for each data set as below."
   ]
  },
  {
   "cell_type": "code",
   "execution_count": 10,
   "metadata": {},
   "outputs": [
    {
     "data": {
      "text/plain": [
       "Text(0, 0.5, 'Pearson Correlation')"
      ]
     },
     "execution_count": 10,
     "metadata": {},
     "output_type": "execute_result"
    },
    {
     "data": {
      "image/png": "[encoded data removed]",
      "text/plain": [
       "<Figure size 720x720 with 1 Axes>"
      ]
     },
     "metadata": {
      "needs_background": "light"
     },
     "output_type": "display_data"
    }
   ],
   "source": [
    "plt.figure(figsize=(10,10))\n",
    "ax = sns.boxplot(data = outcome_PerCell,\n",
    "            y='Cor_Fraction', hue='method', x='dataset'\n",
    "           )\n",
    "\n",
    "ax.legend(bbox_to_anchor=(1.01, 1),borderaxespad=0)\n",
    "ax.set_title('Performance of fraction estimation (per cell type)')\n",
    "ax.set_xlabel(\"Data Set (Ncell_Ngene_Nsample_Noise)\")\n",
    "ax.set_ylabel(\"Pearson Correlation\")"
   ]
  },
  {
   "cell_type": "markdown",
   "metadata": {},
   "source": [
    "Then, performance of each cell type can also be compared across the methods using a scatter plot."
   ]
  },
  {
   "cell_type": "code",
   "execution_count": 11,
   "metadata": {
    "scrolled": false
   },
   "outputs": [
    {
     "data": {
      "text/plain": [
       "(0.0, 1.0)"
      ]
     },
     "execution_count": 11,
     "metadata": {},
     "output_type": "execute_result"
    },
    {
     "data": {
      "image/png": "[encoded data removed]",
      "text/plain": [
       "<Figure size 864x432 with 2 Axes>"
      ]
     },
     "metadata": {
      "needs_background": "light"
     },
     "output_type": "display_data"
    }
   ],
   "source": [
    "PerfMat = outcome_PerCell.pivot_table(values='Cor_Fraction', columns='method', index=['CellType','dataset'])\n",
    "PerfMat.reset_index(inplace=True)\n",
    "PerfMat.dataset = PerfMat.dataset.astype('category')\n",
    "\n",
    "# plot_seaborn\n",
    "plt.figure(figsize=(12,6))\n",
    "plt.subplot(1,2,1)\n",
    "ax = sns.scatterplot(data=PerfMat, y='BLADE', x='NNLS', hue='dataset')\n",
    "ax.set_xlabel(\"NNLS (Pearson Correlation)\")\n",
    "ax.set_ylabel(\"BLADE (Pearson Correlation)\")\n",
    "plt.plot([0,1],[0,1], lw=2, color='#5555CC', linestyle='dashed')\n",
    "plt.axis('equal')\n",
    "plt.ylim(0, 1)\n",
    "plt.xlim(0, 1)\n",
    "\n",
    "plt.subplot(1,2,2)\n",
    "ax = sns.scatterplot(data=PerfMat, y='BLADE', x='SVR_NNLS', hue='dataset')\n",
    "plt.plot([0,1],[0,1], lw=2, color='#5555CC', linestyle='dashed')\n",
    "ax.set_xlabel(\"SVR_NNLS (Pearson Correlation)\")\n",
    "ax.set_ylabel(\"BLADE (Pearson Correlation)\")\n",
    "plt.axis('equal')\n",
    "plt.ylim(0, 1)\n",
    "plt.xlim(0, 1)"
   ]
  },
  {
   "cell_type": "markdown",
   "metadata": {},
   "source": [
    "Performance of fraction estimation can be also measured per sample."
   ]
  },
  {
   "cell_type": "markdown",
   "metadata": {},
   "source": [
    "### 2. Performance of gene expression purification\n",
    "\n",
    "Performance for estimation of gene expression profiles per cell type can be compared.  \n",
    "Group-mode purification is done by BLADE and SVR_NNLS.  "
   ]
  },
  {
   "cell_type": "code",
   "execution_count": 12,
   "metadata": {},
   "outputs": [
    {
     "data": {
      "text/plain": [
       "Text(0, 0.5, 'Pearson Correlation')"
      ]
     },
     "execution_count": 12,
     "metadata": {},
     "output_type": "execute_result"
    },
    {
     "data": {
      "image/png": "[encoded data removed]",
      "text/plain": [
       "<Figure size 720x720 with 1 Axes>"
      ]
     },
     "metadata": {
      "needs_background": "light"
     },
     "output_type": "display_data"
    }
   ],
   "source": [
    "plt.figure(figsize=(10,10))\n",
    "ax = sns.boxplot(data = outcome_PerCell,\n",
    "            y='Cor_Signature', hue='method', x='dataset'\n",
    "           )\n",
    "\n",
    "ax.legend(bbox_to_anchor=(1.01, 1),borderaxespad=0)\n",
    "ax.set_title(\"Performance of group-mode purification (per cell type)\")\n",
    "ax.set_xlabel(\"Data Set (Ncell_Ngene_Nsample_Noise)\")\n",
    "ax.set_ylabel(\"Pearson Correlation\")"
   ]
  },
  {
   "cell_type": "code",
   "execution_count": 13,
   "metadata": {},
   "outputs": [
    {
     "data": {
      "text/plain": [
       "(0.0, 1.0)"
      ]
     },
     "execution_count": 13,
     "metadata": {},
     "output_type": "execute_result"
    },
    {
     "data": {
      "image/png": "[encoded data removed]",
      "text/plain": [
       "<Figure size 432x432 with 1 Axes>"
      ]
     },
     "metadata": {
      "needs_background": "light"
     },
     "output_type": "display_data"
    }
   ],
   "source": [
    "PerfMat = outcome_PerCell.pivot_table(values='Cor_Signature', columns='method', index=['CellType','dataset'])\n",
    "PerfMat.reset_index(inplace=True)\n",
    "PerfMat.dataset = PerfMat.dataset.astype('category')\n",
    "\n",
    "\n",
    "plt.figure(figsize=(6,6))\n",
    "ax = sns.scatterplot(data=PerfMat, y='BLADE', x='SVR_NNLS', hue='dataset')\n",
    "ax.set_xlabel(\"SVR_NNLS (Pearson Correlation)\")\n",
    "ax.set_ylabel(\"BLADE (Pearson Correlation)\")\n",
    "ax.set_title('Performance of group-mode purification (per cell type)')\n",
    "ax.legend(bbox_to_anchor=(1.01, 1),borderaxespad=0)\n",
    "plt.plot([0,1],[0,1], lw=2, color='#5555CC', linestyle='dashed')\n",
    "plt.axis('equal')\n",
    "plt.ylim(0, 1)\n",
    "plt.xlim(0, 1)"
   ]
  },
  {
   "cell_type": "markdown",
   "metadata": {},
   "source": [
    "Now, we will assess performance of BLADE for high-resolution mode purification.  \n",
    "The performance can be measure per cell type (average across the samples) and per sample (average across the cell types)"
   ]
  },
  {
   "cell_type": "code",
   "execution_count": 14,
   "metadata": {},
   "outputs": [
    {
     "data": {
      "text/plain": [
       "<matplotlib.legend.Legend at 0x7f77689dcb80>"
      ]
     },
     "execution_count": 14,
     "metadata": {},
     "output_type": "execute_result"
    },
    {
     "data": {
      "image/png": "[encoded data removed]",
      "text/plain": [
       "<Figure size 720x504 with 1 Axes>"
      ]
     },
     "metadata": {
      "needs_background": "light"
     },
     "output_type": "display_data"
    }
   ],
   "source": [
    "plt.figure(figsize=(10,7))\n",
    "\n",
    "ax = sns.boxplot(data = outcome_PerCell,\n",
    "            y='Cor_HighRes', hue='method', x='dataset'\n",
    "           )\n",
    "\n",
    "ax.set_title('Performance of high-resolution-mode purification')\n",
    "ax.set_xlabel(\"Data Set (Ncell_Ngene_Nsample_Noise)\")\n",
    "ax.set_ylabel(\"Pearson Correlation\")\n",
    "plt.ylim(0.2, 1)\n",
    "ax.legend(bbox_to_anchor=(1.18, 1),borderaxespad=0)\n"
   ]
  },
  {
   "cell_type": "markdown",
   "metadata": {},
   "source": [
    "Average performance per dataset can also be checked in the table below:\n"
   ]
  },
  {
   "cell_type": "code",
   "execution_count": 15,
   "metadata": {},
   "outputs": [
    {
     "data": {
      "application/vnd.jupyter.widget-view+json": {
       "model_id": "5a754c149efb424ea437326da9c1793b",
       "version_major": 2,
       "version_minor": 0
      },
      "text/plain": [
       "QgridWidget(grid_options={'fullWidthRows': True, 'syncColumnCellResize': True, 'forceFitColumns': True, 'defau…"
      ]
     },
     "metadata": {},
     "output_type": "display_data"
    }
   ],
   "source": [
    "qgrid_widget = qgrid.show_grid(outcome_summary, show_toolbar=True)\n",
    "qgrid_widget"
   ]
  }
 ],
 "metadata": {
  "kernelspec": {
   "display_name": "Python 3",
   "language": "python",
   "name": "python3"
  },
  "language_info": {
   "codemirror_mode": {
    "name": "ipython",
    "version": 3
   },
   "file_extension": ".py",
   "mimetype": "text/x-python",
   "name": "python",
   "nbconvert_exporter": "python",
   "pygments_lexer": "ipython3",
   "version": "3.8.3"
  }
 },
 "nbformat": 4,
 "nbformat_minor": 4
}
